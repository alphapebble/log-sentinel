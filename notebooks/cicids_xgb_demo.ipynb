{
 "cells": [
  {
   "cell_type": "markdown",
   "id": "11374cf5",
   "metadata": {},
   "source": [
    "# CyberSec Log Analyzer: CICIDS Log Parsing, Feature Extraction, and Anomaly Detection\n",
    "This notebook demonstrates how to parse CICIDS logs, extract time/user features, and train an XGBoost model for anomaly detection."
   ]
  },
  {
   "cell_type": "code",
   "execution_count": null,
   "id": "d7cdb076",
   "metadata": {},
   "outputs": [],
   "source": [
    "# Install dependencies if running in a fresh environment\n",
    "# !pip install pandas duckdb clickhouse-connect xgboost scikit-learn"
   ]
  },
  {
   "cell_type": "code",
   "execution_count": null,
   "id": "149f15bc",
   "metadata": {},
   "outputs": [],
   "source": [
    "# Import required modules\n",
    "import pandas as pd\n",
    "from parsers.cicids_parser import parse_cicids_csv\n",
    "from ml.feature_extractor import extract_time_user_features\n",
    "from ml.xgb_anomaly import train_xgb_classifier, predict_anomaly"
   ]
  },
  {
   "cell_type": "markdown",
   "id": "3d97057f",
   "metadata": {},
   "source": [
    "## 1. Parse CICIDS Log File\n",
    "Load a sample CICIDS CSV log file and inspect the data."
   ]
  },
  {
   "cell_type": "code",
   "execution_count": null,
   "id": "191b7f34",
   "metadata": {},
   "outputs": [],
   "source": [
    "# Example: Replace with your actual file path\n",
    "cicids_file = '../data/CICIDS_sample.csv'\n",
    "df = parse_cicids_csv(cicids_file)\n",
    "df.head()"
   ]
  },
  {
   "cell_type": "markdown",
   "id": "4b60e88b",
   "metadata": {},
   "source": [
    "## 2. Extract Time- and User-Based Features\n",
    "Generate features such as time since last event, user event count, hour, and day of week."
   ]
  },
  {
   "cell_type": "code",
   "execution_count": null,
   "id": "471e042c",
   "metadata": {},
   "outputs": [],
   "source": [
    "# Assume 'timestamp' and 'user' columns exist in the parsed DataFrame\n",
    "df_feat = extract_time_user_features(df, time_col='timestamp', user_col='user')\n",
    "df_feat.head()"
   ]
  },
  {
   "cell_type": "markdown",
   "id": "334be4ec",
   "metadata": {},
   "source": [
    "## 3. Train XGBoost Anomaly Classifier\n",
    "Train an XGBoost model using the extracted features and a binary anomaly label."
   ]
  },
  {
   "cell_type": "code",
   "execution_count": null,
   "id": "c450b9be",
   "metadata": {},
   "outputs": [],
   "source": [
    "# For demonstration, create a synthetic label if not present\n",
    "df_feat['is_anomaly'] = (df_feat['user_event_count'] > 50).astype(int)\n",
    "feature_cols = ['time_since_last_event', 'user_event_count', 'hour', 'dayofweek']\n",
    "model, report, X_test, y_test, y_pred, y_prob = train_xgb_classifier(\n",
    "    df_feat, label_col='is_anomaly', feature_cols=feature_cols)\n",
    "print('Classification report:', report)"
   ]
  },
  {
   "cell_type": "markdown",
   "id": "ab6d854a",
   "metadata": {},
   "source": [
    "## 4. Predict Anomalies and Output Results\n",
    "Apply the trained model to flag anomalies and output confidence scores."
   ]
  },
  {
   "cell_type": "code",
   "execution_count": null,
   "id": "18953361",
   "metadata": {},
   "outputs": [],
   "source": [
    "flag, prob = predict_anomaly(model, df_feat, feature_cols)\n",
    "df_feat['anomaly_flag'] = flag\n",
    "df_feat['anomaly_score'] = prob\n",
    "df_feat[['user', 'timestamp', 'anomaly_flag', 'anomaly_score']].head()"
   ]
  },
  {
   "cell_type": "markdown",
   "id": "e4a55dcf",
   "metadata": {},
   "source": [
    "---\n",
    "**End of notebook.**"
   ]
  }
 ],
 "metadata": {
  "language_info": {
   "name": "python"
  }
 },
 "nbformat": 4,
 "nbformat_minor": 5
}
